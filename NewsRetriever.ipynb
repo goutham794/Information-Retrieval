{
 "cells": [
  {
   "cell_type": "code",
   "execution_count": 8,
   "metadata": {
    "collapsed": true
   },
   "outputs": [],
   "source": [
    "import re\n",
    "import string"
   ]
  },
  {
   "cell_type": "markdown",
   "metadata": {},
   "source": [
    "## Reading in the data.\n",
    "\"texts\" is a list of all the articles.\n",
    "\"urls\" is a list of all the corresponding urls.\n",
    "\"processed_corpus\" is a list of list which contains all tokens in lower case without stop words."
   ]
  },
  {
   "cell_type": "code",
   "execution_count": 2,
   "metadata": {},
   "outputs": [],
   "source": [
    "doc = open(\"./data/nytimes_sample.txt\").read()\n",
    "texts = []\n",
    "urls = []\n",
    "article = \"\"\n",
    "for line in doc.splitlines():\n",
    "    if re.findall(\"URL.*\", line) != []:\n",
    "        urls.append(line)\n",
    "        texts.append(article)\n",
    "        article = \"\"\n",
    "\n",
    "    else:\n",
    "        article += line\n",
    "del texts[0]\n",
    "\n",
    "stopwords = set([\n",
    "    'a', 'an', 'and', 'are', 'as', 'at', 'be', 'but', 'by',\n",
    "    'for', 'if', 'in', 'into', 'is', 'it',\n",
    "    'no', 'not', 'of', 'on', 'or', 's', 'such',\n",
    "    't', 'that', 'the', 'their', 'then', 'there', 'these',\n",
    "    'they', 'this', 'to', 'was', 'will', 'with'\n",
    "])\n",
    "\n",
    "\n",
    "processed_corpus = [[word for word in text.lower().split() if word.isalnum() and word not in stopwords]for text in texts]"
   ]
  },
  {
   "cell_type": "markdown",
   "metadata": {},
   "source": [
    "## Accepting query from user"
   ]
  },
  {
   "cell_type": "code",
   "execution_count": 9,
   "metadata": {},
   "outputs": [
    {
     "name": "stdout",
     "output_type": "stream",
     "text": [
      "enter queryhillary clinton bernie sanders\n"
     ]
    }
   ],
   "source": [
    "string_corpus = [\" \".join(article) for article in processed_corpus]\n",
    "\n",
    "query = input(\"enter query\")\n",
    "\n",
    "string_corpus.append(query)"
   ]
  },
  {
   "cell_type": "markdown",
   "metadata": {},
   "source": [
    "## TfIdf matrix is made for all the documents and query.\n",
    "### Cosine similarities are calculated for all documents with the query which are then sorted. SInce we want descending order of cosine similarity values, we multiply with -1. \n"
   ]
  },
  {
   "cell_type": "code",
   "execution_count": 13,
   "metadata": {},
   "outputs": [],
   "source": [
    "from sklearn.feature_extraction.text import TfidfVectorizer\n",
    "\n",
    "tfidf_vectorizer = TfidfVectorizer(min_df=1)\n",
    "tfidf_matrix = tfidf_vectorizer.fit_transform(string_corpus)\n",
    "\n",
    "from sklearn.metrics.pairwise import linear_kernel\n",
    "cosine_similarities = linear_kernel(tfidf_matrix[-1], tfidf_matrix).flatten()\n",
    "\n",
    "import numpy as np\n",
    "ranked_indices = np.argsort(-1 * cosine_similarities)\n",
    "    "
   ]
  },
  {
   "cell_type": "markdown",
   "metadata": {},
   "source": [
    "### The first element of ranked_indices is removed since it is the cosine similarity of the query with itself.\n",
    "### The first ten inidces of the descending order of cosine similarities are taken in a list and correspoding urls of the articles are printed out"
   ]
  },
  {
   "cell_type": "code",
   "execution_count": 12,
   "metadata": {},
   "outputs": [
    {
     "name": "stdout",
     "output_type": "stream",
     "text": [
      "URL: http://www.nytimes.com/2016/06/30/us/politics/bernie-sanders.html\n",
      "URL: http://www.nytimes.com/2016/06/30/us/politics/huma-abedin-hillary-clinton-emails.html\n",
      "URL: http://www.nytimes.com/2016/06/30/us/politics/donald-trump-us-chamber-of-commerce-trade.html\n",
      "URL: http://www.nytimes.com/2016/06/30/nyregion/three-men-charged-in-killing-of-cuomo-administration-lawyer.html\n",
      "URL: http://www.nytimes.com/2016/06/30/world/americas/extradition-of-el-chapo-to-us-is-halted-in-mexico.html\n",
      "URL: http://www.nytimes.com/2016/06/30/us/national-briefing.html\n",
      "URL: http://www.nytimes.com/2016/06/30/world/middleeast/2-groups-call-to-oust-saudis-from-un-human-rights-council.html\n",
      "URL: http://www.nytimes.com/2016/06/30/fashion/homepolish-noa-santos-interior-design.html\n",
      "URL: http://www.nytimes.com/2016/06/30/sports/hockey/new-jersey-devils-snare-taylor-hall-in-nhl-deals.html\n",
      "URL: http://www.nytimes.com/2016/06/30/fashion/bill-cunningham-tributes.html\n"
     ]
    }
   ],
   "source": [
    "ranked_indices = np.delete(ranked_indices, 0)\n",
    "rank = list(ranked_indices)[0:10]\n",
    "\n",
    "for n in rank:\n",
    "    print (urls[n])"
   ]
  }
 ],
 "metadata": {
  "kernelspec": {
   "display_name": "Python 3",
   "language": "python",
   "name": "python3"
  },
  "language_info": {
   "codemirror_mode": {
    "name": "ipython",
    "version": 3
   },
   "file_extension": ".py",
   "mimetype": "text/x-python",
   "name": "python",
   "nbconvert_exporter": "python",
   "pygments_lexer": "ipython3",
   "version": "3.6.1"
  }
 },
 "nbformat": 4,
 "nbformat_minor": 2
}
